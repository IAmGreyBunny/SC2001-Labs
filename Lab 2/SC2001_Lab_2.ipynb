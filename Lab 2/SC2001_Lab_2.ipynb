{
 "cells": [
  {
   "cell_type": "markdown",
   "metadata": {
    "id": "-foQBd6yd3Pc"
   },
   "source": [
    "# 1. Dijkstra's Algorithm and Analysis\n",
    "\n",
    "\n",
    "\n",
    "\n"
   ]
  },
  {
   "cell_type": "markdown",
   "metadata": {
    "id": "ldMrfJLI8lV2"
   },
   "source": [
    "## A quick summary of Dijkstra's Algorithm\n",
    "Let $\\text{dist}[x]$ denote the tentative distance from the source node to node $x$.\n",
    "### Step 0: Initialization\n",
    "- Set $\\text{dist}[s] = 0$ for the source node $s$.\n",
    "- For every other node $v \\neq s$, set $\\text{dist}[v] = \\infty$.\n",
    "- Set all nodes as unvisited.\n",
    "\n",
    "---\n",
    "\n",
    "### Step 1: Select Next Node\n",
    "- Find an unvisited node $u$ with minimal $\\text{dist}[u]$ (usually done with a priority queue).\n",
    "- Mark $u$ as visited.\n",
    "\n",
    "---\n",
    "\n",
    "### Step 2: Edge Relaxation\n",
    "- For every neighbor $v$ of $u$ reached by edge $(u, v)$ with weight $w$:\n",
    "    - If $v$ is unvisited:\n",
    "        - Update $\\text{dist}[v] = \\min(\\text{dist}[v], \\text{dist}[u] + w)$.\n",
    "\n",
    "---\n",
    "\n",
    "### Step 3: Repeat\n",
    "- Repeat Steps 1 and 2 until all nodes have been visited (or the queue is empty).\n",
    "\n",
    "---\n",
    "Note: All implementations below also have an array $\\text{p}$, where $\\text{p}[x]$ is parent of $x$ in the shortest-path tree."
   ]
  },
  {
   "cell_type": "markdown",
   "metadata": {
    "id": "b2XDhGfRLqhR"
   },
   "source": [
    "## Implementation 1\n",
    "* Using *adjacency matrix* to represent the graph\n",
    "* Using *array* to represent the priority queue"
   ]
  },
  {
   "cell_type": "code",
   "execution_count": 1,
   "metadata": {
    "id": "YbpIsILhzAgI"
   },
   "outputs": [],
   "source": [
    "def dijkstra_a(matrix, s):\n",
    "    n = len(matrix)\n",
    "    dist = [inf] * n\n",
    "    p = [-1] * n\n",
    "    vis = [False] * n\n",
    "    dist[s] = 0\n",
    "\n",
    "    while True:\n",
    "        u = -1\n",
    "        minD = inf\n",
    "        for v in range(n):\n",
    "            if not vis[v] and dist[v] < minD:\n",
    "                minD = dist[v]\n",
    "                u = v\n",
    "\n",
    "        if u == -1:\n",
    "            break\n",
    "\n",
    "        vis[u] = True\n",
    "\n",
    "        for v in range(n):\n",
    "            if not vis[v] and matrix[u][v] != inf:\n",
    "                newD = dist[u] + matrix[u][v]\n",
    "                if newD < dist[v]:\n",
    "                    dist[v] = newD\n",
    "                    p[v] = u\n",
    "\n",
    "    return dist, p"
   ]
  },
  {
   "cell_type": "markdown",
   "metadata": {
    "id": "1BtRQF1B8fd6"
   },
   "source": [
    "### Complexity Analysis\n",
    "\n",
    "### Step 0: Initialization\n",
    "```python\n",
    "  dist = [inf] * n\n",
    "  p = [-1] * n\n",
    "  vis = [False] * n\n",
    "  dist[s] = 0\n",
    "```\n",
    "- This step consists only of setting up 3 arrays: `dist`, `vis` and `p`, so it's $O(|V|)$.\n",
    "\n",
    "---\n",
    "\n",
    "### Step 1: Select Next Node\n",
    "```python\n",
    "  u = -1\n",
    "  minD = inf\n",
    "  for v in range(n):\n",
    "    if not vis[v] and dist[v] < minD:\n",
    "      minD = dist[v]\n",
    "      u = v\n",
    "\n",
    "  if u == -1:\n",
    "    break\n",
    "\n",
    "  vis[u] = True\n",
    "```\n",
    "- To find the unvisited node $u$ with the smallest distance to $s$, we loop through all the nodes and compare one-by-one, resulting in $O(|V|)$ time complexity.\n",
    "---\n",
    "\n",
    "### Step 2: Edge Relaxation\n",
    "```python\n",
    "for v in range(n):\n",
    "  if not vis[v] and matrix[u][v] != inf:\n",
    "    newD = dist[u] + matrix[u][v]\n",
    "    if newD < dist[v]:\n",
    "      dist[v] = newD\n",
    "      p[v] = u\n",
    "```\n",
    "- Since we represent the graph via an adjacency matrix, to find all edges originating from $u$, we must loop through all possible nodes $v$, resulting in $O(|V|)$ time complexity.\n",
    "---\n",
    "\n",
    "### Step 3: Repeat\n",
    "- We repeat steps 1 and 2 at most $|V|$ times, since each node can be selected once or none depending on whether it is reachable from $S$.\n",
    "- Thus, time complexity for this step is $O(|V| \\cdot |V|) = O(|V| ^ 2)$.\n",
    "\n",
    "---\n",
    "Overall, time complexity of this implementation is total time of Step 0 and Step 3 = $O(|V|) + O(|V|^2) = O(|V| ^ 2)$."
   ]
  },
  {
   "cell_type": "markdown",
   "metadata": {
    "id": "ZjkwSdzA4Lfe"
   },
   "source": [
    "## Implementation 2\n",
    "* Using *adjacency lists* to represent the graph\n",
    "* Using *heap* (python *heapq*) to represent the priority queue"
   ]
  },
  {
   "cell_type": "code",
   "execution_count": 2,
   "metadata": {
    "id": "Rni66TgD4h0_"
   },
   "outputs": [],
   "source": [
    "from math import inf\n",
    "import heapq\n",
    "\n",
    "def dijkstra_b(graph, s):\n",
    "    n = len(graph)\n",
    "    dist = [inf] * n\n",
    "    p = [-1] * n\n",
    "\n",
    "    vis = [False] * n\n",
    "\n",
    "    dist[s] = 0\n",
    "    pq = [(0, s)]\n",
    "\n",
    "    while pq:\n",
    "        d, u = heapq.heappop(pq)\n",
    "        if vis[u]:\n",
    "            continue\n",
    "        vis[u] = True\n",
    "        for v, w in graph[u]:\n",
    "            newD = d + w\n",
    "            if newD < dist[v]:\n",
    "                dist[v] = newD\n",
    "                p[v] = u\n",
    "                heapq.heappush(pq, (newD, v))\n",
    "\n",
    "    return dist, p\n"
   ]
  },
  {
   "cell_type": "markdown",
   "metadata": {
    "id": "AMejXH-5gWuj"
   },
   "source": [
    "### Complexity Analysis\n",
    "\n",
    "### Step 0: Initialization\n",
    "```python\n",
    "  dist = [inf] * n\n",
    "  p = [-1] * n\n",
    "\n",
    "  vis = [False] * n\n",
    "\n",
    "  dist[s] = 0\n",
    "  pq = [(0, s)]\n",
    "```\n",
    "- This step consists only of setting up 3 arrays: `dist`, `vis` and `p` and the priority queue `pq`, so it's $O(|V|)$.\n",
    "\n",
    "---\n",
    "\n",
    "### Steps 1, 2, 3: Select Next Node, Edge Relaxation and Repeats\n",
    "```python\n",
    "  while pq:\n",
    "    d, u = heapq.heappop(pq)\n",
    "    if vis[u]:\n",
    "      continue\n",
    "    vis[u] = True\n",
    "    for v, w in graph[u]:\n",
    "      newD = d + w\n",
    "      if newD < dist[v]:\n",
    "        dist[v] = newD\n",
    "        p[v] = u\n",
    "        heapq.heappush(pq, (newD, v))\n",
    "```\n",
    "- To calculate the total complexity of this loop, we need to know how many items are pushed into the heap, which is bounded by the number of relaxation attempts (since there's 1 heap push for a successful relaxation).\n",
    "- Every time we select a node, we loop through all of its outgoing edges.\n",
    "- Thus, each edge is iterated by exactly once. In the worst case scenario, every edge contributes to one successful relaxation, so the total number of heap pushes is $O(|E|)$.\n",
    "- Since heap push and pop operations are logarithmic to the number of elements in the heap, the time complexity for this loop is $O(|E| \\cdot log(|E|))$.\n",
    "---\n",
    "Overall, time complexity of this implementation is $O(|V| + |E| \\cdot log(|E|))$.\n",
    "\n",
    "This is more commonly written as $O(|V| + |E| \\cdot log(|V|))$, since $|E| \\le |V|^2 ⇔ log(|E|) = O(log(|V|))$."
   ]
  },
  {
   "cell_type": "markdown",
   "metadata": {
    "id": "62-zw9HtlJCJ"
   },
   "source": [
    "## Theoretical Complexity Comparison\n",
    "We want to compare two asymptotic bounds:\n",
    "\n",
    "\\begin{equation}\n",
    "f(|V|, |E|) = O(|V|^2)\n",
    "\\end{equation}\n",
    "\n",
    "and\n",
    "\n",
    "\\begin{equation}\n",
    "g(|V|, |E|) = O(|V| + |E|\\log |V|).\n",
    "\\end{equation}\n",
    "\n",
    "\n",
    "For sufficiently large $|V|$, the linear term $|V|$ is negligible compared with $|V|^2$.  \n",
    "So the comparison reduces to:\n",
    "\n",
    "\\begin{equation}\n",
    "|V|^2 \\quad \\text{vs.} \\quad |E|\\log |V|.\n",
    "\\end{equation}\n",
    "\n",
    "We want to know when:\n",
    "\n",
    "\\begin{equation}\n",
    "|V|^2 < C \\cdot |E| \\log |V|\n",
    "\\end{equation}\n",
    "\n",
    "for some constant $C > 0$, and for sufficiently large $|V|$.\n",
    "\n",
    "Rearranging gives:\n",
    "\n",
    "\\begin{equation}\n",
    "|E| > \\frac{|V|^2}{C \\log |V|}.\n",
    "\\end{equation}\n",
    "\n",
    "Or, asymptotically:\n",
    "\n",
    "\\begin{equation}\n",
    "|E| = \\Omega\\!\\left(\\frac{|V|^2}{\\log |V|}\\right).\n",
    "\\end{equation}\n",
    "\n",
    "Basically,\n",
    "- For relatively \"sparse\" graph $(|E| \\sim O(|V|))$, the heap implementation is faster.\n",
    "- As the graph becomes denser $(|E| \\gg |V|)$, specifically when $|E| = \\Omega \\left(\\frac{|V|^2}{\\log |V|}\\right)$, the $O(|V|^2)$ implementation (with array-based selection) becomes asymptotically faster than the heap-based implementation."
   ]
  },
  {
   "cell_type": "markdown",
   "metadata": {
    "id": "X6o5PuUbqW-j"
   },
   "source": [
    "some ideas for graph generation:\n",
    "- generate connected undirected, weighted graphs without self-loops or multiple edges: function gen(n, m) where n = # of nodes, m = # of edges\n",
    "- undirected and weighted is easy\n",
    "- connected part is harder to avoid bias\n",
    "- generate a spanning tree first, and then add other edges randomly\n",
    "- to generate a spanning tree, generate a sequence of n - 2 random numbers from 1 to n, and then decode it into a tree (see Prufer sequences: https://en.wikipedia.org/wiki/Pr%C3%BCfer_sequence)\n",
    "- to generate remaining edges, just shuffle the set of remaining edges and then add first m - n + 1 (since the spanning tree alr has n - 1)\n",
    "- this is, ofc, still biased towards graphs with more spanning trees, but from my experience, the bias is acceptable\n",
    "\n",
    "\n",
    "some notes for benchmarking:\n",
    "- i removed the input formatting functions from the implementations. after generating the edges, remember to reformat the graph to either adj matrix form or adj lists form.\n",
    "- don't forget to plot into graphs lol"
   ]
  },
  {
   "cell_type": "markdown",
   "metadata": {
    "id": "XfV8_TJqUKIp"
   },
   "source": [
    "# 2. Data Generation\n"
   ]
  },
  {
   "cell_type": "markdown",
   "metadata": {
    "id": "bGRk23uXYAhC"
   },
   "source": [
    "## Importing Libraries"
   ]
  },
  {
   "cell_type": "code",
   "execution_count": 5,
   "metadata": {
    "id": "ENOktf7UYGPH"
   },
   "outputs": [],
   "source": [
    "import os\n",
    "from math import log\n",
    "import joblib\n",
    "import shutil\n",
    "import random\n",
    "\n",
    "# Initialise with seed to maintain consistency\n",
    "random.seed(42)\n"
   ]
  },
  {
   "cell_type": "markdown",
   "metadata": {
    "id": "WXAAaxY7Vo0Z"
   },
   "source": [
    "## Generating Graphs"
   ]
  },
  {
   "cell_type": "markdown",
   "metadata": {},
   "source": [
    "### Generate Random Graphs"
   ]
  },
  {
   "cell_type": "code",
   "execution_count": null,
   "metadata": {},
   "outputs": [],
   "source": [
    "def generate_random_graph(n, p, max_weight=100):\n",
    "    edges = []\n",
    "    for u in range(n):\n",
    "        for v in range(n):\n",
    "            if u != v and random.random() < p:\n",
    "                w = random.randint(1, max_weight)\n",
    "                edges.append((u, v, w))\n",
    "    return edges"
   ]
  },
  {
   "cell_type": "code",
   "execution_count": null,
   "metadata": {
    "id": "T1cY4YOTUkmm",
    "scrolled": true
   },
   "outputs": [],
   "source": [
    "# Generate Graphs and Save Them\n",
    "random_graph_folder = \"random_graphs\"\n",
    "if os.path.exists(random_graph_folder):\n",
    "    shutil.rmtree(random_graph_folder)  # delete old folder and all files\n",
    "os.makedirs(random_graph_folder, exist_ok=True)\n",
    "graph_id = 0\n",
    "\n",
    "for n in [50,100,250,1000,2000,3000,5000,7500,10000]:\n",
    "    p_list = [1/n,log(n)/n, 0.25, 0.5, 1]\n",
    "    for p in p_list:\n",
    "        graph = {\n",
    "            \"n\": n,\n",
    "            \"p\": p,\n",
    "            \"edges\": generate_random_graph(n, p)\n",
    "        }\n",
    "        \n",
    "        joblib.dump(graph, f\"{random_graph_folder}/graph_{graph_id}.pkl\", compress=3)\n",
    "        print(f\"Saved graph {graph_id}.pkl, edges={len(graph['edges'])}\")\n",
    "        del graph\n",
    "        graph_id += 1"
   ]
  },
  {
   "cell_type": "markdown",
   "metadata": {},
   "source": [
    "### Generate Connected Graphs (TO BE DONE)"
   ]
  },
  {
   "cell_type": "code",
   "execution_count": 3,
   "metadata": {},
   "outputs": [],
   "source": [
    "def generate_connected_graph(n, p, max_weight=100):\n",
    "    edges = []\n",
    "    nodes = list(range(n))\n",
    "    \n",
    "    for v in range(1, n):\n",
    "        u = random.randint(0, v-1)\n",
    "        w = random.randint(1, max_weight)\n",
    "        edges.append((u, v, w))\n",
    "    \n",
    "    for u in range(n):\n",
    "        for v in range(n):\n",
    "            if u != v:\n",
    "                # Avoid duplicating spanning tree edges\n",
    "                if not any(e[0] == u and e[1] == v for e in edges):\n",
    "                    if random.random() < p:\n",
    "                        w = random.randint(1, max_weight)\n",
    "                        edges.append((u, v, w))\n",
    "    \n",
    "    return edges"
   ]
  },
  {
   "cell_type": "code",
   "execution_count": null,
   "metadata": {
    "scrolled": true
   },
   "outputs": [
    {
     "name": "stdout",
     "output_type": "stream",
     "text": [
      "Saved graph 0.pkl, edges=88\n",
      "Saved graph 1.pkl, edges=240\n",
      "Saved graph 2.pkl, edges=660\n",
      "Saved graph 3.pkl, edges=1258\n",
      "Saved graph 4.pkl, edges=2450\n",
      "Saved graph 5.pkl, edges=211\n",
      "Saved graph 6.pkl, edges=583\n",
      "Saved graph 7.pkl, edges=2517\n",
      "Saved graph 8.pkl, edges=4930\n",
      "Saved graph 9.pkl, edges=9900\n",
      "Saved graph 10.pkl, edges=482\n",
      "Saved graph 11.pkl, edges=1596\n",
      "Saved graph 12.pkl, edges=15719\n"
     ]
    }
   ],
   "source": [
    "# Generate Graphs and Save Them\n",
    "connected_graph_folder = \"connected_graphs\"\n",
    "if os.path.exists(connected_graph_folder):\n",
    "    shutil.rmtree(connected_graph_folder)  # delete old folder and all files\n",
    "os.makedirs(connected_graph_folder, exist_ok=True)\n",
    "graph_id = 0\n",
    "\n",
    "for n in [50,100,250,1000,2000,3000,5000,7500,10000]:\n",
    "    p_list = [1/n,log(n)/n, 0.25, 0.5, 1]\n",
    "    for p in p_list:\n",
    "        graph = {\n",
    "            \"n\": n,\n",
    "            \"p\": p,\n",
    "            \"edges\": generate_connected_graph(n, p)\n",
    "        }\n",
    "        \n",
    "        joblib.dump(graph, f\"{connected_graph_folder}/graph_{graph_id}.pkl\", compress=3)\n",
    "        print(f\"Saved graph {graph_id}.pkl, edges={len(graph['edges'])}\")\n",
    "        del graph\n",
    "        graph_id += 1"
   ]
  },
  {
   "cell_type": "markdown",
   "metadata": {
    "id": "Rk43rar_V0aF"
   },
   "source": [
    "# 3. Benchmarking"
   ]
  },
  {
   "cell_type": "code",
   "execution_count": null,
   "metadata": {},
   "outputs": [],
   "source": [
    "import time\n",
    "import pandas as pd\n",
    "import os\n",
    "import joblib\n",
    "\n",
    "random_graph_folder = \"random_graphs\"\n",
    "connected_graph_folder = \"connected_graphs\"\n",
    "random_graph_files = sorted(os.listdir(random_graph_folder),key=lambda x: int(x.split(\"_\")[1].split(\".\")[0]))\n",
    "connected_graph_files = sorted(os.listdir(connected_graph_folder),key=lambda x: int(x.split(\"_\")[1].split(\".\")[0]))\n",
    "\n",
    "loop_count = 5 # To average out timing"
   ]
  },
  {
   "cell_type": "markdown",
   "metadata": {
    "id": "v6Sn9atuWJyw"
   },
   "source": [
    "## Conversion to Adjacency Matrix and Adjacency List"
   ]
  },
  {
   "cell_type": "code",
   "execution_count": null,
   "metadata": {
    "id": "rLpI6_nqWZMy"
   },
   "outputs": [],
   "source": [
    "# Helper Function to generate Adjacency List\n",
    "def createAdjL(n,edges):\n",
    "    g=[[] for _ in range(n)]\n",
    "    for u,v,w in edges:\n",
    "        g[u].append((v,w))\n",
    "\n",
    "    return g\n",
    "\n",
    "# Helper Function to generate Adjacency Matrix\n",
    "def createAdjM(n,edges):\n",
    "    M=[[inf] * n for _ in range(n)]\n",
    "    for i in range(n):\n",
    "        M[i][i]=0\n",
    "    for u,v,w in edges:\n",
    "        M[u][v]=w\n",
    "    return M"
   ]
  },
  {
   "cell_type": "markdown",
   "metadata": {},
   "source": [
    "## Random Graphs"
   ]
  },
  {
   "cell_type": "code",
   "execution_count": null,
   "metadata": {
    "id": "bUP9uCDoV1wJ",
    "scrolled": true
   },
   "outputs": [],
   "source": [
    "results = []\n",
    "\n",
    "for idx,file_name in enumerate(random_graph_files):\n",
    "    file_path = os.path.join(random_graph_folder, file_name)\n",
    "    \n",
    "    graph = joblib.load(file_path)\n",
    "    \n",
    "    adj_matrix = createAdjM(graph[\"n\"], graph[\"edges\"])\n",
    "    adj_list = createAdjL(graph[\"n\"], graph[\"edges\"])\n",
    "\n",
    "    start = time.perf_counter()\n",
    "    for i in range(loop_count):\n",
    "        dist_a, _ = dijkstra_a(adj_matrix, 0)\n",
    "    time_a = (time.perf_counter() - start)/loop_count\n",
    "    \n",
    "    start = time.perf_counter()\n",
    "    for _ in range(loop_count):\n",
    "        dist_b, _ = dijkstra_b(adj_list, 0)\n",
    "    time_b = (time.perf_counter() - start)/loop_count\n",
    "\n",
    "    results.append({\n",
    "        \"nodes\": graph[\"n\"],\n",
    "        \"edges\": len(graph[\"edges\"]),\n",
    "        \"graph_density\":len(graph[\"edges\"])/graph[\"n\"],\n",
    "        \"time_a\": time_a*1000000,\n",
    "        \"time_b\": time_b*1000000\n",
    "    })\n",
    "\n",
    "    # Print progress\n",
    "    print(f\"[{idx+1}/{len(random_graph_files)}] Benchmarking graph_id={idx}: n={graph['n']}, p={graph['p']:.3f}, \"\n",
    "          f\"edges={len(graph['edges'])}, time_a={time_a*1e6:.2f}µs, time_b={time_b*1e6:.2f}µs\")\n"
   ]
  },
  {
   "cell_type": "code",
   "execution_count": null,
   "metadata": {},
   "outputs": [],
   "source": [
    "df = pd.DataFrame(results)\n",
    "df.to_csv(\"random_dijkstra_benchmark.csv\", index=False)"
   ]
  },
  {
   "cell_type": "markdown",
   "metadata": {},
   "source": [
    "## Connected Graphs (TO BE DONE)"
   ]
  },
  {
   "cell_type": "code",
   "execution_count": null,
   "metadata": {},
   "outputs": [],
   "source": [
    "results = []\n",
    "\n",
    "for idx,file_name in enumerate(connected_graph_folder):\n",
    "    file_path = os.path.join(connected_graph_folder, file_name)\n",
    "    \n",
    "    graph = joblib.load(file_path)\n",
    "    \n",
    "    adj_matrix = createAdjM(graph[\"n\"], graph[\"edges\"])\n",
    "    adj_list = createAdjL(graph[\"n\"], graph[\"edges\"])\n",
    "\n",
    "    start = time.perf_counter()\n",
    "    for i in range(loop_count):\n",
    "        dist_a, _ = dijkstra_a(adj_matrix, 0)\n",
    "    time_a = (time.perf_counter() - start)/loop_count\n",
    "    \n",
    "    start = time.perf_counter()\n",
    "    for _ in range(loop_count):\n",
    "        dist_b, _ = dijkstra_b(adj_list, 0)\n",
    "    time_b = (time.perf_counter() - start)/loop_count\n",
    "\n",
    "    results.append({\n",
    "        \"nodes\": graph[\"n\"],\n",
    "        \"edges\": len(graph[\"edges\"]),\n",
    "        \"graph_density\":len(graph[\"edges\"])/graph[\"n\"],\n",
    "        \"time_a\": time_a*1000000,\n",
    "        \"time_b\": time_b*1000000\n",
    "    })\n",
    "\n",
    "    # Print progress\n",
    "    print(f\"[{idx+1}/{len(connected_graph_files)}] Benchmarking graph_id={idx}: n={graph['n']}, p={graph['p']:.3f}, \"\n",
    "          f\"edges={len(graph['edges'])}, time_a={time_a*1e6:.2f}µs, time_b={time_b*1e6:.2f}µs\")"
   ]
  },
  {
   "cell_type": "code",
   "execution_count": null,
   "metadata": {},
   "outputs": [],
   "source": [
    "df = pd.DataFrame(results)\n",
    "df.to_csv(\"connected_dijkstra_benchmark.csv\", index=False)"
   ]
  },
  {
   "cell_type": "markdown",
   "metadata": {
    "id": "tSkFoOnIV7uw"
   },
   "source": [
    "# 4. Data Visualisation"
   ]
  },
  {
   "cell_type": "code",
   "execution_count": null,
   "metadata": {},
   "outputs": [],
   "source": [
    "import pandas as pd\n",
    "import matplotlib.pyplot as plt\n",
    "%matplotlib inline"
   ]
  },
  {
   "cell_type": "markdown",
   "metadata": {},
   "source": [
    "### Random Graphs"
   ]
  },
  {
   "cell_type": "code",
   "execution_count": null,
   "metadata": {},
   "outputs": [],
   "source": [
    "df = pd.read_csv(\"random_dijkstra_benchmark.csv\")\n",
    "\n",
    "# Assign a group 0,1,2,3 repeating for every 4 rows\n",
    "df['density_group'] = [i % 5 for i in range(len(df))]\n",
    "group_labels = {0: \"1/n\", 1: \"log(n)/n\", 2: \"0.25\", 3: \"0.5\", 4:\"1\"}\n",
    "df['density_label'] = df['density_group'].map(group_labels)"
   ]
  },
  {
   "cell_type": "code",
   "execution_count": null,
   "metadata": {
    "id": "Hscw_KzTWDcF"
   },
   "outputs": [],
   "source": [
    "for label in df['density_label'].unique():\n",
    "    df_filtered = df[df['density_label'] == label]\n",
    "    \n",
    "    plt.figure(figsize=(8,5))\n",
    "    plt.plot(df_filtered['nodes'], df_filtered['time_a'], marker='o', label='Matrix')\n",
    "    plt.plot(df_filtered['nodes'], df_filtered['time_b'], marker='s', label='List')\n",
    "    plt.xlabel('Number of Nodes')\n",
    "    plt.ylabel('Time (µs)')\n",
    "    plt.title(f'Dijkstra Time vs Nodes (Density: {label})')\n",
    "    plt.legend()\n",
    "    plt.show()"
   ]
  },
  {
   "cell_type": "code",
   "execution_count": null,
   "metadata": {},
   "outputs": [],
   "source": [
    "for label in df['density_label'].unique():\n",
    "    df_filtered = df[df['density_label'] == label]\n",
    "    \n",
    "    plt.figure(figsize=(8,5))\n",
    "    plt.plot(df_filtered['edges'], df_filtered['time_a'], marker='o', label='Matrix')\n",
    "    plt.plot(df_filtered['edges'], df_filtered['time_b'], marker='s', label='List')\n",
    "    plt.xlabel('Number of Edges')\n",
    "    plt.ylabel('Time (µs)')\n",
    "    plt.title(f'Dijkstra Time vs Edges (Density: {label})')\n",
    "    plt.legend()\n",
    "    plt.show()"
   ]
  },
  {
   "cell_type": "markdown",
   "metadata": {},
   "source": [
    "### Connected Graphs\n"
   ]
  },
  {
   "cell_type": "code",
   "execution_count": null,
   "metadata": {},
   "outputs": [],
   "source": [
    "df = pd.read_csv(\"connected_dijkstra_benchmark.csv\")\n",
    "\n",
    "# Assign a group 0,1,2,3 repeating for every 4 rows\n",
    "df['density_group'] = [i % 5 for i in range(len(df))]\n",
    "group_labels = {0: \"1/n\", 1: \"log(n)/n\", 2: \"0.25\", 3: \"0.5\", 4:\"1\"}\n",
    "df['density_label'] = df['density_group'].map(group_labels)"
   ]
  },
  {
   "cell_type": "code",
   "execution_count": null,
   "metadata": {},
   "outputs": [],
   "source": [
    "for label in df['density_label'].unique():\n",
    "    df_filtered = df[df['density_label'] == label]\n",
    "    \n",
    "    plt.figure(figsize=(8,5))\n",
    "    plt.plot(df_filtered['nodes'], df_filtered['time_a'], marker='o', label='Matrix')\n",
    "    plt.plot(df_filtered['nodes'], df_filtered['time_b'], marker='s', label='List')\n",
    "    plt.xlabel('Number of Nodes')\n",
    "    plt.ylabel('Time (µs)')\n",
    "    plt.title(f'Dijkstra Time vs Nodes (Density: {label})')\n",
    "    plt.legend()\n",
    "    plt.show()"
   ]
  },
  {
   "cell_type": "code",
   "execution_count": null,
   "metadata": {},
   "outputs": [],
   "source": [
    "for label in df['density_label'].unique():\n",
    "    df_filtered = df[df['density_label'] == label]\n",
    "    \n",
    "    plt.figure(figsize=(8,5))\n",
    "    plt.plot(df_filtered['edges'], df_filtered['time_a'], marker='o', label='Matrix')\n",
    "    plt.plot(df_filtered['edges'], df_filtered['time_b'], marker='s', label='List')\n",
    "    plt.xlabel('Number of Edges')\n",
    "    plt.ylabel('Time (µs)')\n",
    "    plt.title(f'Dijkstra Time vs Edges (Density: {label})')\n",
    "    plt.legend()\n",
    "    plt.show()"
   ]
  }
 ],
 "metadata": {
  "colab": {
   "provenance": []
  },
  "kernelspec": {
   "display_name": "Python 3 (ipykernel)",
   "language": "python",
   "name": "python3"
  },
  "language_info": {
   "codemirror_mode": {
    "name": "ipython",
    "version": 3
   },
   "file_extension": ".py",
   "mimetype": "text/x-python",
   "name": "python",
   "nbconvert_exporter": "python",
   "pygments_lexer": "ipython3",
   "version": "3.11.6"
  }
 },
 "nbformat": 4,
 "nbformat_minor": 4
}
